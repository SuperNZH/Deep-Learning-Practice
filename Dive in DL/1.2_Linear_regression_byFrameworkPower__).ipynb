{
  "nbformat": 4,
  "nbformat_minor": 0,
  "metadata": {
    "colab": {
      "name": "Linear_regression_byFrameworkPower_:-).ipynb",
      "provenance": [],
      "authorship_tag": "ABX9TyMR6dhs0hTx1DRQmtpC/e1Y",
      "include_colab_link": true
    },
    "kernelspec": {
      "name": "python3",
      "display_name": "Python 3"
    },
    "language_info": {
      "name": "python"
    }
  },
  "cells": [
    {
      "cell_type": "markdown",
      "metadata": {
        "id": "view-in-github",
        "colab_type": "text"
      },
      "source": [
        "<a href=\"https://colab.research.google.com/github/SuperNZH/Deep-Learning-Practice/blob/main/Dive%20in%20DL/Linear_regression_byFrameworkPower__).ipynb\" target=\"_parent\"><img src=\"https://colab.research.google.com/assets/colab-badge.svg\" alt=\"Open In Colab\"/></a>"
      ]
    },
    {
      "cell_type": "markdown",
      "metadata": {
        "id": "YNfsWRZmr625"
      },
      "source": [
        "# *Linear Regression Simple Implementation*"
      ]
    },
    {
      "cell_type": "markdown",
      "metadata": {
        "id": "gjhLWtcqvWTM"
      },
      "source": [
        "# About Dataset"
      ]
    },
    {
      "cell_type": "code",
      "metadata": {
        "id": "fWSvyCg0sL4C"
      },
      "source": [
        "%matplotlib inline\n",
        "import torch\n",
        "from torch import nn\n",
        "from IPython import display\n",
        "from matplotlib import pyplot as plt\n",
        "import numpy as np\n",
        "import random"
      ],
      "execution_count": 1,
      "outputs": []
    },
    {
      "cell_type": "code",
      "metadata": {
        "id": "RDY_owiLq9Gs"
      },
      "source": [
        "num_inputs = 2\n",
        "num_examples = 1000\n",
        "true_w = [2, -3.4]\n",
        "true_b = 4.2\n",
        "features = torch.tensor(np.random.normal(0, 1, (num_examples, num_inputs)), dtype=torch.float)\n",
        "labels = true_w[0] * features[:, 0] + true_w[1] * features[:, 1] + true_b\n",
        "labels += torch.tensor(np.random.normal(0, 0.01, size=labels.size()), dtype=torch.float)"
      ],
      "execution_count": 2,
      "outputs": []
    },
    {
      "cell_type": "code",
      "metadata": {
        "id": "mWsWO2qdr5-i"
      },
      "source": [
        "import torch.utils.data as Data\n",
        "\n",
        "batch_size = 10\n",
        "dataset = Data.TensorDataset(features, labels)\n",
        "data_iter = Data.DataLoader(dataset, batch_size, shuffle=True)\n",
        "\n",
        "# TensorDataset把数据集包装起来，便于调用"
      ],
      "execution_count": 3,
      "outputs": []
    },
    {
      "cell_type": "code",
      "metadata": {
        "colab": {
          "base_uri": "https://localhost:8080/"
        },
        "id": "BBdZwrdFvPXv",
        "outputId": "c8b34b51-64ae-4cde-f542-e12ce2a592ed"
      },
      "source": [
        "for X, y in data_iter:\n",
        "    print(X,y)\n",
        "    break"
      ],
      "execution_count": 4,
      "outputs": [
        {
          "output_type": "stream",
          "name": "stdout",
          "text": [
            "tensor([[-0.1887,  1.1698],\n",
            "        [-0.5246,  0.0104],\n",
            "        [-0.1778,  0.4116],\n",
            "        [-0.8547, -0.7210],\n",
            "        [ 1.6877, -1.0059],\n",
            "        [ 1.2162, -0.2211],\n",
            "        [ 0.6482,  0.5981],\n",
            "        [-0.6620, -0.9500],\n",
            "        [ 0.1989,  0.4419],\n",
            "        [ 2.4849,  1.1490]]) tensor([-0.1537,  3.1277,  2.4385,  4.9227, 10.9896,  7.3997,  3.4600,  6.1331,\n",
            "         3.0875,  5.2412])\n"
          ]
        }
      ]
    },
    {
      "cell_type": "code",
      "metadata": {
        "id": "d0FgK0fWwUVV"
      },
      "source": [
        "# 如果pytorch来定义模型，只需关注使用哪些层来构造模型\n",
        "\n",
        "class LinearNet(nn.Module):\n",
        "  def __init__(self, n_feature):\n",
        "    super(LinearNet, self).__init__()\n",
        "    self.linear = nn.Linear(n_feature, 1)\n",
        "\n",
        "  def forward(self, x):\n",
        "    y = self.linear(x)\n",
        "    return y\n"
      ],
      "execution_count": 5,
      "outputs": []
    },
    {
      "cell_type": "code",
      "metadata": {
        "id": "sPJXObfZ0dA5"
      },
      "source": [
        "# 另外更简略的写法\n",
        "# lin_net = nn.Sequential(\n",
        "#     nn.Linear(num_inputs, 1)\n",
        "# )\n",
        "\n",
        "# print(lin_net)\n",
        "# print(lin_net[0])"
      ],
      "execution_count": 6,
      "outputs": []
    },
    {
      "cell_type": "code",
      "metadata": {
        "colab": {
          "base_uri": "https://localhost:8080/"
        },
        "id": "7ByLd5GuD5Vo",
        "outputId": "4f10891d-09d7-4e68-fa51-f8e19d2668e2"
      },
      "source": [
        "net = LinearNet(num_inputs)\n",
        "print(net)\n",
        "# torch.nn.Linear(in_features, out_features, bias=True, device=None, dtype=None)\n",
        "# forward 定义前向传播"
      ],
      "execution_count": 7,
      "outputs": [
        {
          "output_type": "stream",
          "name": "stdout",
          "text": [
            "LinearNet(\n",
            "  (linear): Linear(in_features=2, out_features=1, bias=True)\n",
            ")\n"
          ]
        }
      ]
    },
    {
      "cell_type": "code",
      "metadata": {
        "colab": {
          "base_uri": "https://localhost:8080/"
        },
        "id": "dxD7tGGb1BOr",
        "outputId": "524acb2b-1f6c-410b-8411-84936c187c4c"
      },
      "source": [
        "# 可以通过net.parameters()来查看模型所有的可学习参数，此函数将返回一个生成器\n",
        "for param in net.parameters():\n",
        "  print(param)"
      ],
      "execution_count": 8,
      "outputs": [
        {
          "output_type": "stream",
          "name": "stdout",
          "text": [
            "Parameter containing:\n",
            "tensor([[-0.1659,  0.3763]], requires_grad=True)\n",
            "Parameter containing:\n",
            "tensor([-0.5918], requires_grad=True)\n"
          ]
        }
      ]
    },
    {
      "cell_type": "code",
      "metadata": {
        "colab": {
          "base_uri": "https://localhost:8080/",
          "height": 35
        },
        "id": "YmaM2Odbb4BX",
        "outputId": "5693d257-e1b8-451b-c3a0-067c40b9d15b"
      },
      "source": [
        "# 初始化模型参数\n",
        "# 在使用net前，需要初始化模型参数，如线性回归模型中的权重和偏差\n",
        "# 通过init.normal_将权重参数每个元素初始化为随机采样于均值为0、标准差为0.01的正态分布。\n",
        "# 偏差会初始化为零。\n",
        "\n",
        "from torch.nn import init\n",
        "\n",
        "init.normal_(net.linear.weight, mean=0, std=0.01)\n",
        "init.constant_(net.linear.bias, val=0)\n",
        "\n",
        "'''\n",
        "# for sequential的\n",
        "init.normal_(net[0].weight, mean=0, std=0.01)\n",
        "init.constant_(net[0].bias, val=0)\n",
        "'''"
      ],
      "execution_count": 9,
      "outputs": [
        {
          "output_type": "execute_result",
          "data": {
            "application/vnd.google.colaboratory.intrinsic+json": {
              "type": "string"
            },
            "text/plain": [
              "'\\n# for sequential的\\ninit.normal_(net[0].weight, mean=0, std=0.01)\\ninit.constant_(net[0].bias, val=0)\\n'"
            ]
          },
          "metadata": {},
          "execution_count": 9
        }
      ]
    },
    {
      "cell_type": "code",
      "metadata": {
        "id": "wCio-2vOn7cM"
      },
      "source": [
        "# 定义损失函数\n",
        "\n",
        "loss = nn.MSELoss()"
      ],
      "execution_count": 10,
      "outputs": []
    },
    {
      "cell_type": "code",
      "metadata": {
        "colab": {
          "base_uri": "https://localhost:8080/",
          "height": 170
        },
        "id": "aXH1sugGoMxa",
        "outputId": "2a5c018e-6d5f-4f94-8ad0-98cd74038088"
      },
      "source": [
        "# 定义optimization的算法\n",
        "\n",
        "import torch.optim as optim\n",
        "\n",
        "optimizer = optim.SGD(net.parameters(), lr=0.03)\n",
        "print(optimizer)\n",
        "\n",
        "# 把学习到的parameters丢进去不断验证并优化\n",
        "# 此外这个SGD方法还可以针对不同的param指定不同的learning rate\n",
        "'''\n",
        "optimizer =optim.SGD([\n",
        "                {'params': net.subnet1.parameters()}, # lr=0.03\n",
        "                {'params': net.subnet2.parameters(), 'lr': 0.01}\n",
        "            ], lr=0.03)\n",
        "'''"
      ],
      "execution_count": 11,
      "outputs": [
        {
          "output_type": "stream",
          "name": "stdout",
          "text": [
            "SGD (\n",
            "Parameter Group 0\n",
            "    dampening: 0\n",
            "    lr: 0.03\n",
            "    momentum: 0\n",
            "    nesterov: False\n",
            "    weight_decay: 0\n",
            ")\n"
          ]
        },
        {
          "output_type": "execute_result",
          "data": {
            "application/vnd.google.colaboratory.intrinsic+json": {
              "type": "string"
            },
            "text/plain": [
              "\"\\noptimizer =optim.SGD([\\n                {'params': net.subnet1.parameters()}, # lr=0.03\\n                {'params': net.subnet2.parameters(), 'lr': 0.01}\\n            ], lr=0.03)\\n\""
            ]
          },
          "metadata": {},
          "execution_count": 11
        }
      ]
    },
    {
      "cell_type": "code",
      "metadata": {
        "id": "x4SOk37Kyhsa"
      },
      "source": [
        "# 调整学习率\n",
        "\n",
        "# for param_group in optimizer.param_groups:\n",
        "#   param_group['lr'] *= 0.1"
      ],
      "execution_count": 12,
      "outputs": []
    },
    {
      "cell_type": "code",
      "metadata": {
        "colab": {
          "base_uri": "https://localhost:8080/"
        },
        "id": "0Uu-BTKnzbeS",
        "outputId": "e2e1f590-050d-45ab-a2c9-48bff67339fb"
      },
      "source": [
        "# 训练模型\n",
        "\n",
        "num_epochs = 3\n",
        "for epoch in range(1, num_epochs+1):\n",
        "  for X,y in data_iter:\n",
        "    output = net(X)\n",
        "    # -1是指动态调整\n",
        "    l = loss(output,y.view(-1,1))\n",
        "    # 每次都要清空梯度\n",
        "    optimizer.zero_grad()\n",
        "    l.backward()\n",
        "    optimizer.step()\n",
        "  print('epoch %d, loss: %f' %(epoch, l.item()))"
      ],
      "execution_count": 13,
      "outputs": [
        {
          "output_type": "stream",
          "name": "stdout",
          "text": [
            "epoch 1, loss: 0.000240\n",
            "epoch 2, loss: 0.000166\n",
            "epoch 3, loss: 0.000130\n"
          ]
        }
      ]
    },
    {
      "cell_type": "code",
      "metadata": {
        "colab": {
          "base_uri": "https://localhost:8080/"
        },
        "id": "OFNYiU27-5pT",
        "outputId": "acb54f83-cf1a-4b25-d30e-d95bec00bb5d"
      },
      "source": [
        "dense = net.linear\n",
        "print(true_w, dense.weight)\n",
        "print('--'*20)\n",
        "print(true_b, dense.bias)"
      ],
      "execution_count": 18,
      "outputs": [
        {
          "output_type": "stream",
          "name": "stdout",
          "text": [
            "[2, -3.4] Parameter containing:\n",
            "tensor([[ 1.9987, -3.4000]], requires_grad=True)\n",
            "----------------------------------------\n",
            "4.2 Parameter containing:\n",
            "tensor([4.2009], requires_grad=True)\n"
          ]
        }
      ]
    }
  ]
}
