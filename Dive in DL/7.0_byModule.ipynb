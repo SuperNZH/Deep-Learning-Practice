{
  "nbformat": 4,
  "nbformat_minor": 0,
  "metadata": {
    "colab": {
      "name": "7.0_byModule.ipynb",
      "provenance": [],
      "authorship_tag": "ABX9TyOaCvaMQNA3X4v97CUZx97w",
      "include_colab_link": true
    },
    "kernelspec": {
      "name": "python3",
      "display_name": "Python 3"
    },
    "language_info": {
      "name": "python"
    }
  },
  "cells": [
    {
      "cell_type": "markdown",
      "metadata": {
        "id": "view-in-github",
        "colab_type": "text"
      },
      "source": [
        "<a href=\"https://colab.research.google.com/github/SuperNZH/Deep-Learning-Practice/blob/main/Dive%20in%20DL/7.0_byModule.ipynb\" target=\"_parent\"><img src=\"https://colab.research.google.com/assets/colab-badge.svg\" alt=\"Open In Colab\"/></a>"
      ]
    },
    {
      "cell_type": "code",
      "execution_count": 1,
      "metadata": {
        "id": "wG2At_uQYud7"
      },
      "outputs": [],
      "source": [
        "import torch\n",
        "from torch import nn"
      ]
    },
    {
      "cell_type": "code",
      "source": [
        "class MLP(nn.Module):\n",
        "  def __init__(self, **kwargs):\n",
        "    super(MLP, self).__init__(**kwargs)\n",
        "    self.hidden = nn.Linear(784, 256)\n",
        "    self.act = nn.ReLU() # act 是激活函数的意思\n",
        "    self.output = nn.Linear(256, 10)\n",
        "  # 定义前向运算，根据x计算返回所需要的模型输出\n",
        "  def forward(self, x):\n",
        "    a = self.act(self.hidden(x))\n",
        "    return self.output(a)\n",
        "\n",
        "# 不需要定义反向函数，是因为这个class里面系统会自动求梯度，然后自动生成反向传播的backward函数"
      ],
      "metadata": {
        "id": "LzmVpqPjfG_N"
      },
      "execution_count": 9,
      "outputs": []
    },
    {
      "cell_type": "code",
      "source": [
        "X = torch.rand(2,784)\n",
        "print(X)\n",
        "net = MLP()\n",
        "print(net)\n",
        "net(X)"
      ],
      "metadata": {
        "colab": {
          "base_uri": "https://localhost:8080/"
        },
        "id": "ygqnuiv1mIpn",
        "outputId": "823c5d42-1c88-4122-bea6-38947c87c329"
      },
      "execution_count": 12,
      "outputs": [
        {
          "output_type": "stream",
          "name": "stdout",
          "text": [
            "tensor([[0.5982, 0.9754, 0.9842,  ..., 0.6747, 0.7660, 0.4037],\n",
            "        [0.5841, 0.8473, 0.2928,  ..., 0.1373, 0.7365, 0.7940]])\n",
            "torch.Size([2, 784])\n",
            "MLP(\n",
            "  (hidden): Linear(in_features=784, out_features=256, bias=True)\n",
            "  (act): ReLU()\n",
            "  (output): Linear(in_features=256, out_features=10, bias=True)\n",
            ")\n"
          ]
        },
        {
          "output_type": "execute_result",
          "data": {
            "text/plain": [
              "tensor([[-0.2485, -0.0088,  0.0873,  0.0494, -0.0967,  0.0415, -0.2293, -0.0508,\n",
              "         -0.2397,  0.0744],\n",
              "        [-0.1804, -0.0385,  0.0658,  0.0122, -0.0654, -0.0218, -0.1330,  0.1203,\n",
              "         -0.1973,  0.0980]], grad_fn=<AddmmBackward0>)"
            ]
          },
          "metadata": {},
          "execution_count": 12
        }
      ]
    }
  ]
}